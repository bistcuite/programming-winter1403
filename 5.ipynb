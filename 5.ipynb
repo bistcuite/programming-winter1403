{
 "cells": [
  {
   "cell_type": "markdown",
   "id": "899bc3ef",
   "metadata": {},
   "source": [
    "# مسئله اول"
   ]
  },
  {
   "cell_type": "code",
   "execution_count": 1,
   "id": "9a2aa90e",
   "metadata": {},
   "outputs": [],
   "source": [
    "import numpy as np"
   ]
  },
  {
   "cell_type": "code",
   "execution_count": null,
   "id": "7fb9a66f",
   "metadata": {},
   "outputs": [
    {
     "name": "stdout",
     "output_type": "stream",
     "text": [
      "بازی حدس عدد شروع شد! عددی بین 1 و 100 انتخاب شده.\n",
      "عدد بزرگتر است!\n",
      "عدد بزرگتر است!\n",
      "عدد کوچکتر است!\n",
      "عدد کوچکتر است!\n",
      "عدد کوچکتر است!\n",
      "عدد کوچکتر است!\n",
      "عدد بزرگتر است!\n",
      "عدد بزرگتر است!\n",
      "عدد بزرگتر است!\n",
      "عدد بزرگتر است!\n",
      "عدد بزرگتر است!\n",
      "عدد بزرگتر است!\n",
      "عدد بزرگتر است!\n"
     ]
    }
   ],
   "source": [
    "def guess_number():\n",
    "    number = np.random.randint(1, 101)  # عدد تصادفی بین 1 و 100\n",
    "    guess = None\n",
    "    print(\"بازی حدس عدد شروع شد! عددی بین 1 و 100 انتخاب شده.\")\n",
    "    while guess != number:\n",
    "        guess = int(input(\"یک عدد حدس بزنید: \"))\n",
    "        \n",
    "        if guess < number:\n",
    "            print(\"عدد بزرگتر است!\")\n",
    "        elif guess > number:\n",
    "            print(\"عدد کوچکتر است!\")\n",
    "        elif guess == number:\n",
    "            print(\"شما برنده شدید!\")\n",
    "guess_number()"
   ]
  },
  {
   "cell_type": "code",
   "execution_count": null,
   "id": "050ce49e",
   "metadata": {},
   "outputs": [],
   "source": [
    "guess = None"
   ]
  }
 ],
 "metadata": {
  "kernelspec": {
   "display_name": "Python 3",
   "language": "python",
   "name": "python3"
  },
  "language_info": {
   "codemirror_mode": {
    "name": "ipython",
    "version": 3
   },
   "file_extension": ".py",
   "mimetype": "text/x-python",
   "name": "python",
   "nbconvert_exporter": "python",
   "pygments_lexer": "ipython3",
   "version": "3.12.1"
  }
 },
 "nbformat": 4,
 "nbformat_minor": 5
}
