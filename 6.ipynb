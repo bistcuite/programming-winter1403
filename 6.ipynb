{
 "cells": [
  {
   "cell_type": "markdown",
   "id": "149efcba",
   "metadata": {},
   "source": [
    "# مسئله اول"
   ]
  },
  {
   "cell_type": "code",
   "execution_count": 1,
   "id": "f34659b1",
   "metadata": {},
   "outputs": [],
   "source": [
    "import numpy as np"
   ]
  },
  {
   "cell_type": "code",
   "execution_count": null,
   "id": "d919d8fd",
   "metadata": {},
   "outputs": [],
   "source": [
    "secret = np.random.randint(1,101)\n",
    "guess = None\n",
    "\n",
    "while guess != secret:\n",
    "    guess = int(input(\"حدس بزن: \"))\n",
    "    if guess < secret:\n",
    "        print(\"برو بالاتر!\")\n",
    "    elif guess > secret:\n",
    "        print(\"بیا پایین‌تر!\")\n",
    "\n",
    "print(f\"آفرین درست حدس زدی!\")\n"
   ]
  }
 ],
 "metadata": {
  "kernelspec": {
   "display_name": "Python 3",
   "language": "python",
   "name": "python3"
  },
  "language_info": {
   "codemirror_mode": {
    "name": "ipython",
    "version": 3
   },
   "file_extension": ".py",
   "mimetype": "text/x-python",
   "name": "python",
   "nbconvert_exporter": "python",
   "pygments_lexer": "ipython3",
   "version": "3.12.1"
  }
 },
 "nbformat": 4,
 "nbformat_minor": 5
}
