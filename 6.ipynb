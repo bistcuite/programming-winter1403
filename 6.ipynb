{
 "cells": [
  {
   "cell_type": "markdown",
   "id": "149efcba",
   "metadata": {},
   "source": [
    "# مسئله اول"
   ]
  },
  {
   "cell_type": "code",
   "execution_count": 1,
   "id": "f34659b1",
   "metadata": {},
   "outputs": [],
   "source": [
    "import numpy as np"
   ]
  },
  {
   "cell_type": "code",
   "execution_count": 3,
   "id": "d919d8fd",
   "metadata": {},
   "outputs": [
    {
     "name": "stdout",
     "output_type": "stream",
     "text": [
      "بیا پایین‌تر!\n",
      "برو بالاتر!\n",
      "برو بالاتر!\n",
      "بیا پایین‌تر!\n",
      "آفرین درست حدس زدی!\n"
     ]
    }
   ],
   "source": [
    "secret = np.random.randint(1,101)\n",
    "guess = None\n",
    "\n",
    "while guess != secret:\n",
    "    guess = int(input(\"حدس بزن: \"))\n",
    "    if guess < secret:\n",
    "        print(\"برو بالاتر!\")\n",
    "    else:\n",
    "        print(\"بیا پایین‌تر!\")\n",
    "\n",
    "print(f\"آفرین درست حدس زدی!\")\n"
   ]
  },
  {
   "cell_type": "markdown",
   "id": "4b2544e8",
   "metadata": {},
   "source": [
    "# مسئله دوم"
   ]
  },
  {
   "cell_type": "code",
   "execution_count": 4,
   "id": "cd1ac67a",
   "metadata": {},
   "outputs": [
    {
     "name": "stdout",
     "output_type": "stream",
     "text": [
      "رمز اشتباه بود.\n",
      "رمز اشتباه بود.\n",
      "ورود موفق!\n"
     ]
    }
   ],
   "source": [
    "password = \"1234\"\n",
    "tries = 0\n",
    "max_tries = 3\n",
    "\n",
    "while tries < max_tries:\n",
    "    guess = input(\"رمز عبور را وارد کنید: \")\n",
    "    if guess == password:\n",
    "        print(\"ورود موفق!\")\n",
    "        break\n",
    "    else:\n",
    "        print(\"رمز اشتباه بود.\")\n",
    "        tries += 1\n",
    "\n",
    "if tries == max_tries:\n",
    "    print(\"دسترسی مسدود شد.\")"
   ]
  },
  {
   "cell_type": "markdown",
   "id": "7a0deecf",
   "metadata": {},
   "source": [
    "- حتما رمز چهار رقمی باشد\n",
    "- گزینۀ انتخاب زبان فعال شود"
   ]
  },
  {
   "cell_type": "code",
   "execution_count": null,
   "id": "e134af05",
   "metadata": {},
   "outputs": [],
   "source": []
  }
 ],
 "metadata": {
  "kernelspec": {
   "display_name": "Python 3",
   "language": "python",
   "name": "python3"
  },
  "language_info": {
   "codemirror_mode": {
    "name": "ipython",
    "version": 3
   },
   "file_extension": ".py",
   "mimetype": "text/x-python",
   "name": "python",
   "nbconvert_exporter": "python",
   "pygments_lexer": "ipython3",
   "version": "3.12.1"
  }
 },
 "nbformat": 4,
 "nbformat_minor": 5
}
